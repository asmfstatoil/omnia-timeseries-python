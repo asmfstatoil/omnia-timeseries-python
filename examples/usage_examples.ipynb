{
 "cells": [
  {
   "cell_type": "markdown",
   "metadata": {},
   "source": [
    "# Timeseries API examples\n",
    "\n",
    "Please have a look at the README first.\n",
    "<br>This notebook shows how to use some of the Timeseries API endpoints with different authentication methods using the Azure identity library:\n",
    "<br>https://learn.microsoft.com/en-us/python/api/overview/azure/identity-readme?view=azure-python"
   ]
  },
  {
   "cell_type": "markdown",
   "metadata": {},
   "source": [
    "## Setup"
   ]
  },
  {
   "cell_type": "markdown",
   "metadata": {},
   "source": [
    "Import the required libraries."
   ]
  },
  {
   "cell_type": "code",
   "execution_count": null,
   "metadata": {},
   "outputs": [],
   "source": [
    "from omnia_timeseries.api import TimeseriesAPI, TimeseriesEnvironment, FederationSource\n",
    "import os"
   ]
  },
  {
   "cell_type": "markdown",
   "metadata": {},
   "source": [
    "___\n",
    "Choose one of the authentication methods from the 3 cells below to authenticate aginst the Timeseries API.\n",
    "<br>The `azure.identity` package will handle the actual authentication to the API."
   ]
  },
  {
   "cell_type": "markdown",
   "metadata": {},
   "source": [
    "**Number 1 - Service principal credentials**"
   ]
  },
  {
   "cell_type": "code",
   "execution_count": null,
   "metadata": {},
   "outputs": [],
   "source": [
    "from azure.identity import ClientSecretCredential\n",
    "credentials = ClientSecretCredential(\n",
    "    client_id=os.environ[\"AZURE_CLIENT_ID\"],\n",
    "    client_secret=os.environ['AZURE_CLIENT_SECRET'],\n",
    "    tenant_id=os.environ[\"AZURE_TENANT_ID\"])"
   ]
  },
  {
   "cell_type": "markdown",
   "metadata": {},
   "source": [
    "**Number 2 - User impersonation**"
   ]
  },
  {
   "cell_type": "code",
   "execution_count": null,
   "metadata": {},
   "outputs": [],
   "source": [
    "from azure.identity import DeviceCodeCredential\n",
    "credential = DeviceCodeCredential(\n",
    "    tenant_id=os.environ['AZURE_TENANT_ID'],\n",
    "    client_id=os.environ['AZURE_CLIENT_ID']\n",
    ")"
   ]
  },
  {
   "cell_type": "markdown",
   "metadata": {},
   "source": [
    "**Number 3 - Default credentials**"
   ]
  },
  {
   "cell_type": "code",
   "execution_count": null,
   "metadata": {},
   "outputs": [],
   "source": [
    "from azure.identity import DefaultAzureCredential\n",
    "credential = DefaultAzureCredential()"
   ]
  },
  {
   "cell_type": "markdown",
   "metadata": {},
   "source": [
    "___"
   ]
  },
  {
   "cell_type": "markdown",
   "metadata": {},
   "source": [
    "Set up the Timeseries API with the desired environment (Dev(), Test(), Prod())"
   ]
  },
  {
   "cell_type": "code",
   "execution_count": null,
   "metadata": {},
   "outputs": [],
   "source": [
    "api = TimeseriesAPI(azure_credential=credentials, environment=TimeseriesEnvironment.Dev())"
   ]
  },
  {
   "cell_type": "markdown",
   "metadata": {},
   "source": [
    "## Examples"
   ]
  },
  {
   "cell_type": "markdown",
   "metadata": {},
   "source": [
    "List of variables for testing"
   ]
  },
  {
   "cell_type": "code",
   "execution_count": null,
   "metadata": {},
   "outputs": [],
   "source": [
    "timeseries_id1 = \"Timeseries_ID\"\n",
    "timeseries_id2 = \"Timeseries_ID2\"\n",
    "\n",
    "timeseries_name1 = \"Name_of_timeseries_id1\"\n",
    "facility = \"SNA\"\n",
    "\n",
    "startTime=\"2024-12-09T14:00:00.000Z\"\n",
    "endTime=\"2024-12-09T15:00:01.000Z\""
   ]
  },
  {
   "cell_type": "markdown",
   "metadata": {},
   "source": [
    "Search Timeseries API"
   ]
  },
  {
   "cell_type": "code",
   "execution_count": null,
   "metadata": {},
   "outputs": [],
   "source": [
    "api.search_timeseries(limit=10)"
   ]
  },
  {
   "cell_type": "markdown",
   "metadata": {},
   "source": [
    "Search Timeseries API by name"
   ]
  },
  {
   "cell_type": "code",
   "execution_count": null,
   "metadata": {},
   "outputs": [],
   "source": [
    "api.search_timeseries(name=\"*Omnia timeseries test*\",limit=10)"
   ]
  },
  {
   "cell_type": "markdown",
   "metadata": {},
   "source": [
    "Search Timeseries API by description"
   ]
  },
  {
   "cell_type": "code",
   "execution_count": null,
   "metadata": {},
   "outputs": [],
   "source": [
    "api.search_timeseries(description=\"*Description of a tag*\",limit=10)"
   ]
  },
  {
   "cell_type": "markdown",
   "metadata": {},
   "source": [
    "Query Timeseries API metadata by tag timeseries id"
   ]
  },
  {
   "cell_type": "code",
   "execution_count": null,
   "metadata": {},
   "outputs": [],
   "source": [
    "api.get_timeseries_by_id(id=timeseries_id1)"
   ]
  },
  {
   "cell_type": "markdown",
   "metadata": {},
   "source": [
    "Query Timeseries API metadata history by tag timeseries id"
   ]
  },
  {
   "cell_type": "code",
   "execution_count": null,
   "metadata": {},
   "outputs": [],
   "source": [
    "api.get_history(id=timeseries_id1)"
   ]
  },
  {
   "cell_type": "markdown",
   "metadata": {},
   "source": [
    "Query Timeseries API for first datapoint, by tag timeseries id"
   ]
  },
  {
   "cell_type": "code",
   "execution_count": null,
   "metadata": {},
   "outputs": [],
   "source": [
    "api.get_first_datapoint(id=timeseries_id1)"
   ]
  },
  {
   "cell_type": "markdown",
   "metadata": {},
   "source": [
    "Query Timeseries API for latest datapoint, by tag timeseries id"
   ]
  },
  {
   "cell_type": "code",
   "execution_count": null,
   "metadata": {},
   "outputs": [],
   "source": [
    "api.get_latest_datapoint(id=timeseries_id1)"
   ]
  },
  {
   "cell_type": "markdown",
   "metadata": {},
   "source": [
    "Query Timeseries API by tag name and facility\n",
    "<br>\n",
    "*We recommend using timeseries id to search for data, even though it is possible to search by name and facility*"
   ]
  },
  {
   "cell_type": "code",
   "execution_count": null,
   "metadata": {},
   "outputs": [],
   "source": [
    "api.get_datapoints_by_name(timeseries_name1, facility, startTime=startTime, endTime=endTime)"
   ]
  },
  {
   "cell_type": "markdown",
   "metadata": {},
   "source": [
    "Query Timeseries API by federation source IMS"
   ]
  },
  {
   "cell_type": "code",
   "execution_count": null,
   "metadata": {},
   "outputs": [],
   "source": [
    "api.get_datapoints(id=timeseries_id1, startTime=startTime, endTime=endTime, federationSource=FederationSource.IMS)"
   ]
  },
  {
   "cell_type": "markdown",
   "metadata": {},
   "source": [
    "Query Timeseries API by federation source TSDB"
   ]
  },
  {
   "cell_type": "code",
   "execution_count": null,
   "metadata": {},
   "outputs": [],
   "source": [
    "api.get_datapoints(id=timeseries_id1, startTime=startTime, endTime=endTime, federationSource=FederationSource.TSDB)"
   ]
  },
  {
   "cell_type": "markdown",
   "metadata": {},
   "source": [
    "Query Timeseries API by federation source DataLake"
   ]
  },
  {
   "cell_type": "code",
   "execution_count": null,
   "metadata": {},
   "outputs": [],
   "source": [
    "api.get_datapoints(id=timeseries_id1, startTime=startTime, endTime=endTime, federationSource=FederationSource.DataLake)"
   ]
  },
  {
   "cell_type": "markdown",
   "metadata": {},
   "source": [
    "Query multiple Timeseries API Aggregates"
   ]
  },
  {
   "cell_type": "code",
   "execution_count": null,
   "metadata": {},
   "outputs": [],
   "source": [
    "api.get_multi_datapoints([\n",
    "    {\n",
    "        \"id\": timeseries_id1,\n",
    "        \"startTime\": startTime,\n",
    "        \"endTime\": endTime,\n",
    "        \"aggregateFunctions\": [\"avg\"],\n",
    "        \"processingInterval\": \"5m\",\n",
    "        \"fill\": None,\n",
    "        \"statusFilter\": [192]\n",
    "    },\n",
    "    {\n",
    "        \"id\": timeseries_id2,\n",
    "        \"startTime\": startTime,\n",
    "        \"endTime\": endTime,\n",
    "        \"aggregateFunctions\": [\"count\"],\n",
    "        \"processingInterval\": \"15m\",\n",
    "        \"fill\": None,\n",
    "        \"statusFilter\": [192]\n",
    "    }\n",
    "], federationSource=FederationSource.IMS)"
   ]
  },
  {
   "cell_type": "markdown",
   "metadata": {},
   "source": [
    "Query get first multiple datapoint from Timeseries API Aggregates"
   ]
  },
  {
   "cell_type": "code",
   "execution_count": null,
   "metadata": {},
   "outputs": [],
   "source": [
    "api.get_first_multi_datapoint([\n",
    "    {\n",
    "        \"id\": timeseries_id1,\n",
    "        \"startTime\": startTime,\n",
    "        \"endTime\": endTime,\n",
    "        \"aggregateFunctions\": [\"avg\"],\n",
    "        \"processingInterval\": \"5m\",\n",
    "        \"fill\": None,\n",
    "        \"statusFilter\": [192]\n",
    "    },\n",
    "    {\n",
    "        \"id\": timeseries_id1,\n",
    "        \"startTime\": startTime,\n",
    "        \"endTime\": endTime,\n",
    "        \"aggregateFunctions\": [\"count\"],\n",
    "        \"processingInterval\": \"15m\",\n",
    "        \"fill\": None,\n",
    "        \"statusFilter\": [192]\n",
    "    }\n",
    "], federationSource=FederationSource.IMS)"
   ]
  },
  {
   "cell_type": "markdown",
   "metadata": {},
   "source": [
    "Query get latest multiple datapoint from Timeseries API Aggregates"
   ]
  },
  {
   "cell_type": "code",
   "execution_count": null,
   "metadata": {},
   "outputs": [],
   "source": [
    "api.get_latest_multi_datapoint([\n",
    "    {\n",
    "        \"id\": timeseries_id1,\n",
    "        \"startTime\": startTime,\n",
    "        \"endTime\": endTime,\n",
    "        \"aggregateFunctions\": [\"avg\"],\n",
    "        \"processingInterval\": \"5m\",\n",
    "        \"fill\": None,\n",
    "        \"statusFilter\": [192]\n",
    "    },\n",
    "    {\n",
    "        \"id\": timeseries_id2,\n",
    "        \"startTime\": startTime,\n",
    "        \"endTime\": endTime,\n",
    "        \"aggregateFunctions\": [\"count\"],\n",
    "        \"processingInterval\": \"15m\",\n",
    "        \"fill\": None,\n",
    "        \"statusFilter\": [192]\n",
    "    }\n",
    "], federationSource=FederationSource.IMS)"
   ]
  },
  {
   "cell_type": "markdown",
   "metadata": {},
   "source": [
    "Query single Timeseries API Aggregate"
   ]
  },
  {
   "cell_type": "code",
   "execution_count": null,
   "metadata": {},
   "outputs": [],
   "source": [
    "api.get_aggregates(\n",
    "    timeseries_id1,\n",
    "    startTime=startTime,\n",
    "    endTime=endTime,\n",
    "    processingInterval=\"15m\",\n",
    "    aggregateFunction=[\"avg\"],\n",
    "    fill=None,\n",
    "    status=[192])"
   ]
  },
  {
   "cell_type": "markdown",
   "metadata": {},
   "source": [
    "Get facilities with the number (count) of timeseries tags on each facility"
   ]
  },
  {
   "cell_type": "code",
   "execution_count": null,
   "metadata": {},
   "outputs": [],
   "source": [
    "api.get_facilities()"
   ]
  },
  {
   "cell_type": "markdown",
   "metadata": {},
   "source": [
    "Get sources with the number (count) of timeseries tags on each source"
   ]
  },
  {
   "cell_type": "code",
   "execution_count": null,
   "metadata": {},
   "outputs": [],
   "source": [
    "api.get_sources()"
   ]
  },
  {
   "cell_type": "markdown",
   "metadata": {},
   "source": [
    "Get facilities with the number (count) of timeseries tags by a chosen source (e.g. \"IMS\")"
   ]
  },
  {
   "cell_type": "code",
   "execution_count": null,
   "metadata": {},
   "outputs": [],
   "source": [
    "api.get_facilities_by_source(source=\"IMS\")"
   ]
  },
  {
   "cell_type": "markdown",
   "metadata": {},
   "source": [
    "Get source with the number (count) of timeseries tags by a chosen facility"
   ]
  },
  {
   "cell_type": "code",
   "execution_count": null,
   "metadata": {},
   "outputs": [],
   "source": [
    "api.get_sources_by_facility(facility=facility)"
   ]
  },
  {
   "cell_type": "markdown",
   "metadata": {},
   "source": [
    "Query get subscriptions API to see which timeseries tags you have a subscription on"
   ]
  },
  {
   "cell_type": "code",
   "execution_count": null,
   "metadata": {},
   "outputs": [],
   "source": [
    "api.get_streaming_subscriptions()"
   ]
  },
  {
   "cell_type": "markdown",
   "metadata": {},
   "source": [
    "Create subscription for a timeseries tag"
   ]
  },
  {
   "cell_type": "code",
   "execution_count": null,
   "metadata": {},
   "outputs": [],
   "source": [
    "api.create_stream_subscription(\n",
    "    subscriptions=\n",
    "        [\n",
    "            {\n",
    "                \"id\":timeseries_id1\n",
    "            }\n",
    "])"
   ]
  },
  {
   "cell_type": "markdown",
   "metadata": {},
   "source": [
    "Delete subscription for given timeseries tag ID"
   ]
  },
  {
   "cell_type": "code",
   "execution_count": null,
   "metadata": {},
   "outputs": [],
   "source": [
    "api.delete_stream_subscription(id=timeseries_id1)"
   ]
  },
  {
   "cell_type": "markdown",
   "metadata": {},
   "source": [
    "Set stream destination to Azure Event Hub"
   ]
  },
  {
   "cell_type": "code",
   "execution_count": null,
   "metadata": {},
   "outputs": [],
   "source": [
    "api.set_stream_destination(connectionString=\"Your_connection_String\")"
   ]
  },
  {
   "cell_type": "markdown",
   "metadata": {},
   "source": [
    "Add timeseries, name and facility are required fields"
   ]
  },
  {
   "cell_type": "code",
   "execution_count": null,
   "metadata": {},
   "outputs": [],
   "source": [
    "api.post_timeseries(\n",
    "    {\n",
    "        \"name\":\"Name of the timeseries you add\",\n",
    "        \"facility\":facility  \n",
    "    }\n",
    ")\n"
   ]
  },
  {
   "cell_type": "markdown",
   "metadata": {},
   "source": [
    "Get/add timeseries (if the timeseries already exist it will be queried)"
   ]
  },
  {
   "cell_type": "code",
   "execution_count": null,
   "metadata": {},
   "outputs": [],
   "source": [
    "\n",
    "api.get_or_add_timeseries([\n",
    "    {\n",
    "        \"name\":\"Name of the timeseries you add\",\n",
    "        \"facility\":facility \n",
    "    }\n",
    "])"
   ]
  },
  {
   "cell_type": "markdown",
   "metadata": {},
   "source": [
    "Remember to delete the timeseries created after testing"
   ]
  },
  {
   "cell_type": "code",
   "execution_count": null,
   "metadata": {},
   "outputs": [],
   "source": [
    "api.delete_timeseries_by_id(id=\"ID_of_created_timeseries_above\")"
   ]
  },
  {
   "cell_type": "markdown",
   "metadata": {},
   "source": [
    "Partial update of a timeseries metadata with given id. Fields not specified are left unchanged."
   ]
  },
  {
   "cell_type": "code",
   "execution_count": null,
   "metadata": {},
   "outputs": [],
   "source": [
    "api.patch_timeseries(\n",
    "    id=\"Timeseries_ID_to_update\",\n",
    "    request= \n",
    "        {\n",
    "            \"name\":\"New name\",\n",
    "            \"description\":\"Description of the tag\",\n",
    "            \"unit\":\"kg\",\n",
    "            \"step\":True\n",
    "        }\n",
    ")"
   ]
  },
  {
   "cell_type": "markdown",
   "metadata": {},
   "source": [
    "Update all fields of a timeseries metadata, all fields on the object will be overwritten."
   ]
  },
  {
   "cell_type": "code",
   "execution_count": null,
   "metadata": {},
   "outputs": [],
   "source": [
    "api.put_timeseries(\n",
    "    id=\"Timeseries_ID_to_update\",\n",
    "    request= \n",
    "        {\n",
    "            \"name\":\"New name\",\n",
    "            \"facility\":facility\n",
    "        }\n",
    ")"
   ]
  },
  {
   "cell_type": "markdown",
   "metadata": {},
   "source": [
    "Add/update datapoints to a timeseries"
   ]
  },
  {
   "cell_type": "code",
   "execution_count": null,
   "metadata": {},
   "outputs": [],
   "source": [
    "api.write_data(\n",
    "    id=\"Timeseries_ID_to_update\",\n",
    "    data=\n",
    "        {\n",
    "            \"datapoints\":\n",
    "            [\n",
    "                {\n",
    "                    \"time\": \"2024-12-02T14:00:00.000Z\",\n",
    "                    \"value\":10.3,\n",
    "                    \"status\":192\n",
    "                },\n",
    "                {\n",
    "                    \"time\": \"2024-12-03T14:00:00.000Z\",\n",
    "                    \"value\":10.4,\n",
    "                    \"status\":192\n",
    "                }\n",
    "            ]\n",
    "        }\n",
    ")"
   ]
  },
  {
   "cell_type": "markdown",
   "metadata": {},
   "source": [
    "Add/update datapoints to multiple timeseries"
   ]
  },
  {
   "cell_type": "code",
   "execution_count": null,
   "metadata": {},
   "outputs": [],
   "source": [
    "api.write_multiple(\n",
    "    items=\n",
    "        {\n",
    "            \"items\":\n",
    "                    [\n",
    "                        {\n",
    "                            \"id\":\"Timeseries_ID_to_update\",\n",
    "                            \"datapoints\":\n",
    "                            [\n",
    "                                {\n",
    "                                    \"time\": \"2024-12-10T14:00:00.000Z\",\n",
    "                                    \"value\": 10.4,\n",
    "                                    \"status\": 192\n",
    "                                }\n",
    "                            ]\n",
    "                        }\n",
    "                    ]\n",
    "        }\n",
    ")"
   ]
  }
 ],
 "metadata": {
  "kernelspec": {
   "display_name": "Python 3",
   "language": "python",
   "name": "python3"
  },
  "language_info": {
   "codemirror_mode": {
    "name": "ipython",
    "version": 3
   },
   "file_extension": ".py",
   "mimetype": "text/x-python",
   "name": "python",
   "nbconvert_exporter": "python",
   "pygments_lexer": "ipython3",
   "version": "3.13.1"
  }
 },
 "nbformat": 4,
 "nbformat_minor": 2
}
