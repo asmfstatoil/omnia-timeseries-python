{
 "cells": [
  {
   "cell_type": "markdown",
   "metadata": {},
   "source": [
    "# Client secret credentials example\n",
    "\n",
    "This notebook shows how to use some of the Timeseries API endpoints with client secret credentials ref:  \n",
    "https://learn.microsoft.com/en-us/entra/identity-platform/v2-oauth2-client-creds-grant-flow  \n",
    "https://learn.microsoft.com/en-us/python/api/overview/azure/identity-readme?view=azure-python"
   ]
  },
  {
   "cell_type": "markdown",
   "metadata": {},
   "source": [
    "Import the required libraries. The `azure.identity` package will handle the actual authentication to the API"
   ]
  },
  {
   "cell_type": "code",
   "execution_count": null,
   "metadata": {},
   "outputs": [],
   "source": [
    "from omnia_timeseries.api import TimeseriesAPI, TimeseriesEnvironment\n",
    "from azure.identity import ClientSecretCredential\n",
    "import os"
   ]
  },
  {
   "cell_type": "markdown",
   "metadata": {},
   "source": [
    "Set up Timeseries API with the desired environment"
   ]
  },
  {
   "cell_type": "code",
   "execution_count": null,
   "metadata": {},
   "outputs": [],
   "source": [
    "credentials = ClientSecretCredential(\n",
    "    client_id=os.environ[\"AZURE_CLIENT_ID\"],\n",
    "    client_secret=os.environ['AZURE_CLIENT_SECRET'],\n",
    "    tenant_id=os.environ[\"AZURE_TENANT_ID\"])\n",
    "api = TimeseriesAPI(azure_credential=credentials, environment=TimeseriesEnvironment.Dev())"
   ]
  },
  {
   "cell_type": "markdown",
   "metadata": {},
   "source": [
    "List of variables for testing"
   ]
  },
  {
   "cell_type": "code",
   "execution_count": null,
   "metadata": {},
   "outputs": [],
   "source": [
    "timeseries_id1 = \"7a259ea4-dc48-4179-a51e-f892105d1068\"\n",
    "timeseries_id2 = \"8c7eb2c2-ca3f-42cd-8812-c8c7b7e178a2\"\n",
    "timeseries_id3 = \"52a61a83-e2db-49b4-be41-ef873a5a6192\"\n",
    "\n",
    "timeseries_name1 = \"13F-PI___011T\"\n",
    "facility = \"SNA\"\n",
    "\n",
    "startTime1=\"2024-12-09T14:00:00.000Z\"\n",
    "endTime1=\"2024-12-09T15:00:01.000Z\"\n",
    "\n",
    "federationSource = [\"IMS\", \"TSDB\", \"DataLake\"]"
   ]
  },
  {
   "cell_type": "markdown",
   "metadata": {},
   "source": [
    "Search Timeseries API by name"
   ]
  },
  {
   "cell_type": "code",
   "execution_count": null,
   "metadata": {},
   "outputs": [],
   "source": [
    "api.search_timeseries(name=\"*Omnia IIoT write test*\",limit=10)"
   ]
  },
  {
   "cell_type": "markdown",
   "metadata": {},
   "source": [
    "Search Timeseries API by description"
   ]
  },
  {
   "cell_type": "code",
   "execution_count": null,
   "metadata": {},
   "outputs": [],
   "source": [
    "api.search_timeseries(description=\"*GLV high-frequency amplitude on Simulator*\",limit=10)"
   ]
  },
  {
   "cell_type": "markdown",
   "metadata": {},
   "source": [
    "Query Timeseries API metadata by tag timeseries id"
   ]
  },
  {
   "cell_type": "code",
   "execution_count": null,
   "metadata": {},
   "outputs": [],
   "source": [
    "api.get_timeseries_by_id(id=timeseries_id1)"
   ]
  },
  {
   "cell_type": "markdown",
   "metadata": {},
   "source": [
    "Query Timeseries API metadata history by tag timeseries id"
   ]
  },
  {
   "cell_type": "code",
   "execution_count": null,
   "metadata": {},
   "outputs": [],
   "source": [
    "api.get_history(id=timeseries_id1)"
   ]
  },
  {
   "cell_type": "markdown",
   "metadata": {},
   "source": [
    "Query Timeseries API for first datapoint, by tag timeseries id"
   ]
  },
  {
   "cell_type": "code",
   "execution_count": null,
   "metadata": {},
   "outputs": [],
   "source": [
    "api.get_first_datapoint(id=timeseries_id1)"
   ]
  },
  {
   "cell_type": "markdown",
   "metadata": {},
   "source": [
    "Query Timeseries API for latest datapoint, by tag timeseries id"
   ]
  },
  {
   "cell_type": "code",
   "execution_count": null,
   "metadata": {},
   "outputs": [],
   "source": [
    "api.get_latest_datapoint(id=timeseries_id1)"
   ]
  },
  {
   "cell_type": "markdown",
   "metadata": {},
   "source": [
    "Query Timeseries API by tag name and facility"
   ]
  },
  {
   "cell_type": "code",
   "execution_count": null,
   "metadata": {},
   "outputs": [],
   "source": [
    "api.get_datapoints_by_name(timeseries_name1, facility, startTime=startTime1, endTime=endTime1)"
   ]
  },
  {
   "cell_type": "markdown",
   "metadata": {},
   "source": [
    "Query Timeseries API by federation source IMS"
   ]
  },
  {
   "cell_type": "code",
   "execution_count": null,
   "metadata": {},
   "outputs": [],
   "source": [
    "api.get_datapoints(id=timeseries_id1, startTime=startTime1, endTime=endTime1, federationSource=federationSource[0])"
   ]
  },
  {
   "cell_type": "markdown",
   "metadata": {},
   "source": [
    "Query Timeseries API by federation source DataLake"
   ]
  },
  {
   "cell_type": "code",
   "execution_count": null,
   "metadata": {},
   "outputs": [],
   "source": [
    "api.get_datapoints(id=timeseries_id3, startTime=startTime1, endTime=endTime1, federationSource=federationSource[2])"
   ]
  },
  {
   "cell_type": "markdown",
   "metadata": {},
   "source": [
    "Query multiple Timeseries API Aggregates"
   ]
  },
  {
   "cell_type": "code",
   "execution_count": null,
   "metadata": {},
   "outputs": [],
   "source": [
    "api.get_multi_datapoints([\n",
    "    {\n",
    "        \"id\": timeseries_id1,\n",
    "        \"startTime\": startTime1,\n",
    "        \"endTime\": endTime1,\n",
    "        \"aggregateFunctions\": [\"avg\"],\n",
    "        \"processingInterval\": \"5m\",\n",
    "        \"fill\": None,\n",
    "        \"statusFilter\": [192]\n",
    "    },\n",
    "    {\n",
    "        \"id\": timeseries_id2,\n",
    "        \"startTime\": startTime1,\n",
    "        \"endTime\": endTime1,\n",
    "        \"aggregateFunctions\": [\"count\"],\n",
    "        \"processingInterval\": \"15m\",\n",
    "        \"fill\": None,\n",
    "        \"statusFilter\": [192]\n",
    "    }\n",
    "], federationSource=federationSource[0])"
   ]
  },
  {
   "cell_type": "markdown",
   "metadata": {},
   "source": [
    "Query get first multiple datapoint from Timeseries API Aggregates"
   ]
  },
  {
   "cell_type": "code",
   "execution_count": null,
   "metadata": {},
   "outputs": [],
   "source": [
    "api.get_first_multi_datapoint([\n",
    "    {\n",
    "        \"id\": timeseries_id1,\n",
    "        \"startTime\": startTime1,\n",
    "        \"endTime\": endTime1,\n",
    "        \"aggregateFunctions\": [\"avg\"],\n",
    "        \"processingInterval\": \"5m\",\n",
    "        \"fill\": None,\n",
    "        \"statusFilter\": [192]\n",
    "    },\n",
    "    {\n",
    "        \"id\": timeseries_id2,\n",
    "        \"startTime\": \"2024-07-01T00:00:00.000Z\",\n",
    "        \"endTime\": \"2024-07-01T01:00:00.000Z\",\n",
    "        \"aggregateFunctions\": [\"count\"],\n",
    "        \"processingInterval\": \"15m\",\n",
    "        \"fill\": None,\n",
    "        \"statusFilter\": [192]\n",
    "    }\n",
    "], federationSource=federationSource[0])"
   ]
  },
  {
   "cell_type": "markdown",
   "metadata": {},
   "source": [
    "Query get latest multiple datapoint from Timeseries API Aggregates"
   ]
  },
  {
   "cell_type": "code",
   "execution_count": null,
   "metadata": {},
   "outputs": [],
   "source": [
    "api.get_latest_multi_datapoint([\n",
    "    {\n",
    "        \"id\": timeseries_id1,\n",
    "        \"startTime\": startTime1,\n",
    "        \"endTime\": endTime1,\n",
    "        \"aggregateFunctions\": [\"avg\"],\n",
    "        \"processingInterval\": \"5m\",\n",
    "        \"fill\": None,\n",
    "        \"statusFilter\": [192]\n",
    "    },\n",
    "    {\n",
    "        \"id\": timeseries_id2,\n",
    "        \"startTime\": \"2024-07-01T00:00:00.000Z\",\n",
    "        \"endTime\": \"2024-07-01T01:00:00.000Z\",\n",
    "        \"aggregateFunctions\": [\"count\"],\n",
    "        \"processingInterval\": \"15m\",\n",
    "        \"fill\": None,\n",
    "        \"statusFilter\": [192]\n",
    "    }\n",
    "], federationSource=federationSource[0])"
   ]
  },
  {
   "cell_type": "markdown",
   "metadata": {},
   "source": [
    "Query single Timeseries API Aggregate"
   ]
  },
  {
   "cell_type": "code",
   "execution_count": null,
   "metadata": {},
   "outputs": [],
   "source": [
    "api.get_aggregates(\n",
    "    timeseries_id1,\n",
    "    startTime=startTime1,\n",
    "    endTime=endTime1,\n",
    "    processingInterval=\"15m\",\n",
    "    aggregateFunction=[\"avg\"],\n",
    "    fill=None,\n",
    "    status=[192])"
   ]
  },
  {
   "cell_type": "markdown",
   "metadata": {},
   "source": [
    "Query get subscriptions API"
   ]
  },
  {
   "cell_type": "code",
   "execution_count": null,
   "metadata": {},
   "outputs": [],
   "source": [
    "api.get_streaming_subscriptions()"
   ]
  },
  {
   "cell_type": "markdown",
   "metadata": {},
   "source": [
    "Add timeseries"
   ]
  },
  {
   "cell_type": "code",
   "execution_count": null,
   "metadata": {},
   "outputs": [],
   "source": [
    "api.post_timeseries(\n",
    "    {\n",
    "        \"name\":'Omnia IIoT write test python sdk',\n",
    "        \"facility\":facility  \n",
    "    }\n",
    ")\n"
   ]
  },
  {
   "cell_type": "markdown",
   "metadata": {},
   "source": [
    "Get/add timeseries"
   ]
  },
  {
   "cell_type": "code",
   "execution_count": null,
   "metadata": {},
   "outputs": [],
   "source": [
    "\n",
    "api.get_or_add_timeseries([\n",
    "    {\n",
    "        \"name\":'Omnia IIoT write test python sdk 3',\n",
    "        \"facility\":facility \n",
    "    }\n",
    "])"
   ]
  },
  {
   "cell_type": "markdown",
   "metadata": {},
   "source": [
    "Remember to delete the timeseries created after testing"
   ]
  },
  {
   "cell_type": "code",
   "execution_count": null,
   "metadata": {},
   "outputs": [],
   "source": [
    "api.delete_timeseries_by_id(id=\"ID_of_created_timeseries_above\")"
   ]
  },
  {
   "cell_type": "markdown",
   "metadata": {},
   "source": [
    "Partial update of a timeseries metadata with given id. Fields not specified are left unchanged."
   ]
  },
  {
   "cell_type": "code",
   "execution_count": null,
   "metadata": {},
   "outputs": [],
   "source": [
    "api.patch_timeseries(id=\"Timeseries_ID_to_update\", request= \n",
    "    {\n",
    "        \"name\":\"New name\",\n",
    "        \"description\":\"Description of the tag\",\n",
    "        \"unit\":\"kg\",\n",
    "        \"step\":True\n",
    "    }\n",
    ")"
   ]
  },
  {
   "cell_type": "markdown",
   "metadata": {},
   "source": [
    "Update all fields of a timeseries metadata, all fields on the object will be overwritten."
   ]
  },
  {
   "cell_type": "code",
   "execution_count": null,
   "metadata": {},
   "outputs": [],
   "source": [
    "api.put_timeseries(id=\"Timeseries_ID_to_update\", request= \n",
    "    {\n",
    "        \"name\":\"New name\",\n",
    "        \"facility\":facility\n",
    "    }\n",
    ")"
   ]
  },
  {
   "cell_type": "markdown",
   "metadata": {},
   "source": [
    "Add/update datapoints to a timeseries"
   ]
  },
  {
   "cell_type": "code",
   "execution_count": null,
   "metadata": {},
   "outputs": [],
   "source": [
    "api.write_data(id=\"Timeseries_ID_to_update\", data=\n",
    "{\n",
    "    \"datapoints\":\n",
    "    [\n",
    "        {\n",
    "            \"time\": \"2024-12-02T14:00:00.000Z\",\n",
    "            \"value\":10.3,\n",
    "            \"status\":192\n",
    "        },\n",
    "        {\n",
    "            \"time\": \"2024-12-03T14:00:00.000Z\",\n",
    "            \"value\":10.4,\n",
    "            \"status\":192\n",
    "        }\n",
    "    ]\n",
    "})"
   ]
  },
  {
   "cell_type": "markdown",
   "metadata": {},
   "source": [
    "Add/update datapoints to multiple timeseries"
   ]
  },
  {
   "cell_type": "code",
   "execution_count": null,
   "metadata": {},
   "outputs": [],
   "source": [
    "#this is not working\n",
    "api.write_multiple(items=[\n",
    "    {\n",
    "        \"id\":\"Timeseries_ID_to_update\",\n",
    "        \"datapoints\":\n",
    "        [\n",
    "            {\n",
    "                \"time\": \"2024-12-10T14:00:00.000Z\",\n",
    "                \"value\":10.4,\n",
    "                \"status\":192\n",
    "            }\n",
    "        ]\n",
    "    }\n",
    "])"
   ]
  },
  {
   "cell_type": "markdown",
   "metadata": {},
   "source": [
    "Get facilities"
   ]
  },
  {
   "cell_type": "code",
   "execution_count": null,
   "metadata": {},
   "outputs": [],
   "source": [
    "api.get_facilities()"
   ]
  },
  {
   "cell_type": "markdown",
   "metadata": {},
   "source": [
    "Get sources"
   ]
  },
  {
   "cell_type": "code",
   "execution_count": null,
   "metadata": {},
   "outputs": [],
   "source": [
    "api.get_sources()"
   ]
  },
  {
   "cell_type": "markdown",
   "metadata": {},
   "source": [
    "Get facilities by source"
   ]
  },
  {
   "cell_type": "code",
   "execution_count": null,
   "metadata": {},
   "outputs": [],
   "source": [
    "api.get_facilities_by_source(source=federationSource[0])"
   ]
  },
  {
   "cell_type": "markdown",
   "metadata": {},
   "source": [
    "Get source by facility"
   ]
  },
  {
   "cell_type": "code",
   "execution_count": null,
   "metadata": {},
   "outputs": [],
   "source": [
    "api.get_sources_by_facility(facility=facility)"
   ]
  }
 ],
 "metadata": {
  "kernelspec": {
   "display_name": "Python 3",
   "language": "python",
   "name": "python3"
  },
  "language_info": {
   "codemirror_mode": {
    "name": "ipython",
    "version": 3
   },
   "file_extension": ".py",
   "mimetype": "text/x-python",
   "name": "python",
   "nbconvert_exporter": "python",
   "pygments_lexer": "ipython3",
   "version": "3.13.1"
  }
 },
 "nbformat": 4,
 "nbformat_minor": 2
}
