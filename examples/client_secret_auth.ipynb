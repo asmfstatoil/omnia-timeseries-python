{
 "cells": [
  {
   "cell_type": "markdown",
   "metadata": {},
   "source": [
    "# Client secret credentials example\n",
    "\n",
    "This notebook shows how to use some of the Timeseries API endpoints with client secret credentials ref:  \n",
    "https://learn.microsoft.com/en-us/entra/identity-platform/v2-oauth2-client-creds-grant-flow  \n",
    "https://learn.microsoft.com/en-us/python/api/overview/azure/identity-readme?view=azure-python"
   ]
  },
  {
   "cell_type": "markdown",
   "metadata": {},
   "source": [
    "Import the required libraries. The `azure.identity` package will handle the actual authentication to the API"
   ]
  },
  {
   "cell_type": "code",
   "execution_count": 1,
   "metadata": {},
   "outputs": [],
   "source": [
    "from omnia_timeseries.api import TimeseriesAPI, TimeseriesEnvironment\n",
    "from azure.identity import ClientSecretCredential\n",
    "import os"
   ]
  },
  {
   "cell_type": "markdown",
   "metadata": {},
   "source": [
    "Set up Timeseries API with the desired environment"
   ]
  },
  {
   "cell_type": "code",
   "execution_count": 2,
   "metadata": {},
   "outputs": [],
   "source": [
    "credentials = ClientSecretCredential(\n",
    "    client_id=os.environ[\"AZURE_CLIENT_ID\"],\n",
    "    client_secret=os.environ['AZURE_CLIENT_SECRET'],\n",
    "    tenant_id=os.environ[\"AZURE_TENANT_ID\"])\n",
    "api = TimeseriesAPI(azure_credential=credentials, environment=TimeseriesEnvironment.Dev())"
   ]
  },
  {
   "cell_type": "markdown",
   "metadata": {},
   "source": [
    "List of variables for testing"
   ]
  },
  {
   "cell_type": "code",
   "execution_count": 3,
   "metadata": {},
   "outputs": [],
   "source": [
    "timeseries_id1 = \"7a259ea4-dc48-4179-a51e-f892105d1068\"\n",
    "timeseries_id2 = \"8c7eb2c2-ca3f-42cd-8812-c8c7b7e178a2\"\n",
    "timeseries_id3 = \"52a61a83-e2db-49b4-be41-ef873a5a6192\"\n",
    "\n",
    "timeseries_name1 = \"13F-PI___011T\"\n",
    "timeseries_facility1 = \"SNA\"\n",
    "\n",
    "startTime1=\"2024-12-09T14:00:00.000Z\"\n",
    "endTime1=\"2024-12-09T15:00:01.000Z\"\n",
    "\n",
    "federationSource = [\"IMS\", \"TSDB\", \"DataLake\"]"
   ]
  },
  {
   "cell_type": "markdown",
   "metadata": {},
   "source": [
    "Search Timeseries API by name"
   ]
  },
  {
   "cell_type": "code",
   "execution_count": 4,
   "metadata": {},
   "outputs": [
    {
     "data": {
      "text/plain": [
       "{'data': {'items': [{'id': '1e95b249-5f3f-4b9e-ace1-d6e582897ff0',\n",
       "    'name': 'Omnia IIoT write test',\n",
       "    'description': 'test patch again 7',\n",
       "    'step': False,\n",
       "    'unit': None,\n",
       "    'standardUnit': None,\n",
       "    'assetId': None,\n",
       "    'facility': '1190',\n",
       "    'externalId': None,\n",
       "    'source': 'IMS',\n",
       "    'changedTime': '2023-06-29T05:58:52.3600000Z',\n",
       "    'createdTime': '2021-04-29T05:12:12.8290000Z'},\n",
       "   {'id': '96236c02-4ca9-43bc-b8f2-427aa2545811',\n",
       "    'name': 'Omnia IIoT write test2',\n",
       "    'description': None,\n",
       "    'step': False,\n",
       "    'unit': None,\n",
       "    'standardUnit': None,\n",
       "    'assetId': None,\n",
       "    'facility': '1131',\n",
       "    'externalId': None,\n",
       "    'source': 'IMS',\n",
       "    'changedTime': '2023-10-05T12:25:26.3650000Z',\n",
       "    'createdTime': '2023-10-05T12:25:26.3650000Z'},\n",
       "   {'id': 'fe8d8cc9-972c-4802-866f-a10e839d2429',\n",
       "    'name': 'Omnia IIoT write test2',\n",
       "    'description': None,\n",
       "    'step': False,\n",
       "    'unit': None,\n",
       "    'standardUnit': None,\n",
       "    'assetId': None,\n",
       "    'facility': 'ASGA',\n",
       "    'externalId': None,\n",
       "    'source': 'IMS',\n",
       "    'changedTime': '2023-10-05T08:33:39.0240000Z',\n",
       "    'createdTime': '2023-10-05T08:33:39.0240000Z'}]}}"
      ]
     },
     "execution_count": 4,
     "metadata": {},
     "output_type": "execute_result"
    }
   ],
   "source": [
    "api.search_timeseries(name=\"*Omnia IIoT write test*\",limit=10)"
   ]
  },
  {
   "cell_type": "markdown",
   "metadata": {},
   "source": [
    "Search Timeseries API by description"
   ]
  },
  {
   "cell_type": "code",
   "execution_count": null,
   "metadata": {},
   "outputs": [],
   "source": [
    "api.search_timeseries(description=\"*GLV high-frequency amplitude on Simulator*\",limit=10)"
   ]
  },
  {
   "cell_type": "markdown",
   "metadata": {},
   "source": [
    "Query Timeseries API metadata by tag timeseries id"
   ]
  },
  {
   "cell_type": "code",
   "execution_count": null,
   "metadata": {},
   "outputs": [],
   "source": [
    "api.get_timeseries_by_id(id=timeseries_id1)"
   ]
  },
  {
   "cell_type": "markdown",
   "metadata": {},
   "source": [
    "Query Timeseries API metadata history by tag timeseries id"
   ]
  },
  {
   "cell_type": "code",
   "execution_count": null,
   "metadata": {},
   "outputs": [],
   "source": [
    "#timeseries_id = os.environ[\"OMNIA_TIMESERIES_ID\"]\n",
    "api.get_history(id=timeseries_id1)"
   ]
  },
  {
   "cell_type": "markdown",
   "metadata": {},
   "source": [
    "Query Timeseries API for first datapoint, by tag timeseries id"
   ]
  },
  {
   "cell_type": "code",
   "execution_count": null,
   "metadata": {},
   "outputs": [],
   "source": [
    "api.get_first_datapoint(id=timeseries_id1)"
   ]
  },
  {
   "cell_type": "markdown",
   "metadata": {},
   "source": [
    "Query Timeseries API for latest datapoint, by tag timeseries id"
   ]
  },
  {
   "cell_type": "code",
   "execution_count": null,
   "metadata": {},
   "outputs": [],
   "source": [
    "#timeseries_id = os.environ[\"OMNIA_TIMESERIES_ID\"]\n",
    "api.get_latest_datapoint(id=timeseries_id1)"
   ]
  },
  {
   "cell_type": "markdown",
   "metadata": {},
   "source": [
    "Query Timeseries API by tag name and facility"
   ]
  },
  {
   "cell_type": "code",
   "execution_count": null,
   "metadata": {},
   "outputs": [],
   "source": [
    "timeseries_name = timeseries_name1 #os.environ[\"OMNIA_TIMESERIES_FEDERATION_NAME\"]\n",
    "timeseries_facility = timeseries_facility1 #os.environ[\"OMNIA_TIMESERIES_FEDERATION_FACILITY\"]\n",
    "api.get_datapoints_by_name(timeseries_name, timeseries_facility, startTime=startTime1, endTime=endTime1)"
   ]
  },
  {
   "cell_type": "markdown",
   "metadata": {},
   "source": [
    "Query Timeseries API by federation source IMS"
   ]
  },
  {
   "cell_type": "code",
   "execution_count": null,
   "metadata": {},
   "outputs": [],
   "source": [
    "#timeseries_id = os.environ[\"OMNIA_TIMESERIES_FEDERATION_ID\"]\n",
    "api.get_datapoints(id=timeseries_id1, startTime=startTime1, endTime=endTime1, federationSource=federationSource[0])"
   ]
  },
  {
   "cell_type": "markdown",
   "metadata": {},
   "source": [
    "Query Timeseries API by federation source DataLake"
   ]
  },
  {
   "cell_type": "code",
   "execution_count": null,
   "metadata": {},
   "outputs": [],
   "source": [
    "#timeseries_id = os.environ[\"OMNIA_TIMESERIES_FEDERATION_ID\"]\n",
    "api.get_datapoints(id=timeseries_id3, startTime=startTime1, endTime=endTime1, federationSource=federationSource[2])"
   ]
  },
  {
   "cell_type": "markdown",
   "metadata": {},
   "source": [
    "Query multiple Timeseries API Aggregates"
   ]
  },
  {
   "cell_type": "code",
   "execution_count": null,
   "metadata": {},
   "outputs": [],
   "source": [
    "api.get_multi_datapoints([\n",
    "    {\n",
    "        \"id\": timeseries_id1,\n",
    "        \"startTime\": startTime1,\n",
    "        \"endTime\": endTime1,\n",
    "        \"aggregateFunctions\": [\"avg\"],\n",
    "        \"processingInterval\": \"5m\",\n",
    "        \"fill\": None,\n",
    "        \"statusFilter\": [192]\n",
    "    },\n",
    "    {\n",
    "        \"id\": timeseries_id2,\n",
    "        \"startTime\": startTime1,\n",
    "        \"endTime\": endTime1,\n",
    "        \"aggregateFunctions\": [\"count\"],\n",
    "        \"processingInterval\": \"15m\",\n",
    "        \"fill\": None,\n",
    "        \"statusFilter\": [192]\n",
    "    }\n",
    "], federationSource=federationSource[0])"
   ]
  },
  {
   "cell_type": "markdown",
   "metadata": {},
   "source": [
    "Query get first multiple datapoint from Timeseries API Aggregates"
   ]
  },
  {
   "cell_type": "code",
   "execution_count": null,
   "metadata": {},
   "outputs": [],
   "source": [
    "api.get_first_multi_datapoint([\n",
    "    {\n",
    "        \"id\": timeseries_id1,\n",
    "        \"startTime\": startTime1,\n",
    "        \"endTime\": endTime1,\n",
    "        \"aggregateFunctions\": [\"avg\"],\n",
    "        \"processingInterval\": \"5m\",\n",
    "        \"fill\": None,\n",
    "        \"statusFilter\": [192]\n",
    "    },\n",
    "    {\n",
    "        \"id\": timeseries_id2,\n",
    "        \"startTime\": \"2024-07-01T00:00:00.000Z\",\n",
    "        \"endTime\": \"2024-07-01T01:00:00.000Z\",\n",
    "        \"aggregateFunctions\": [\"count\"],\n",
    "        \"processingInterval\": \"15m\",\n",
    "        \"fill\": None,\n",
    "        \"statusFilter\": [192]\n",
    "    }\n",
    "], federationSource=federationSource[0])"
   ]
  },
  {
   "cell_type": "markdown",
   "metadata": {},
   "source": [
    "Query get latest multiple datapoint from Timeseries API Aggregates"
   ]
  },
  {
   "cell_type": "code",
   "execution_count": null,
   "metadata": {},
   "outputs": [],
   "source": [
    "api.get_latest_multi_datapoint([\n",
    "    {\n",
    "        \"id\": timeseries_id1,\n",
    "        \"startTime\": startTime1,\n",
    "        \"endTime\": endTime1,\n",
    "        \"aggregateFunctions\": [\"avg\"],\n",
    "        \"processingInterval\": \"5m\",\n",
    "        \"fill\": None,\n",
    "        \"statusFilter\": [192]\n",
    "    },\n",
    "    {\n",
    "        \"id\": timeseries_id2,\n",
    "        \"startTime\": \"2024-07-01T00:00:00.000Z\",\n",
    "        \"endTime\": \"2024-07-01T01:00:00.000Z\",\n",
    "        \"aggregateFunctions\": [\"count\"],\n",
    "        \"processingInterval\": \"15m\",\n",
    "        \"fill\": None,\n",
    "        \"statusFilter\": [192]\n",
    "    }\n",
    "], federationSource=federationSource[0])"
   ]
  },
  {
   "cell_type": "markdown",
   "metadata": {},
   "source": [
    "Query single Timeseries API Aggregate"
   ]
  },
  {
   "cell_type": "code",
   "execution_count": null,
   "metadata": {},
   "outputs": [],
   "source": [
    "api.get_aggregates(\n",
    "    timeseries_id1,\n",
    "    startTime=startTime1,\n",
    "    endTime=endTime1,\n",
    "    processingInterval=\"15m\",\n",
    "    aggregateFunction=[\"avg\"],\n",
    "    fill=None,\n",
    "    status=[192])"
   ]
  },
  {
   "cell_type": "markdown",
   "metadata": {},
   "source": [
    "Query get subscriptions API"
   ]
  },
  {
   "cell_type": "code",
   "execution_count": null,
   "metadata": {},
   "outputs": [],
   "source": [
    "api.get_streaming_subscriptions()"
   ]
  },
  {
   "cell_type": "markdown",
   "metadata": {},
   "source": [
    "Add timeseries"
   ]
  },
  {
   "cell_type": "code",
   "execution_count": null,
   "metadata": {},
   "outputs": [],
   "source": [
    "api.post_timeseries(\n",
    "    {\n",
    "        \"name\":'Omnia IIoT write test python sdk',\n",
    "        \"facility\":\"ASGA\"   \n",
    "    }\n",
    ")\n"
   ]
  },
  {
   "cell_type": "markdown",
   "metadata": {},
   "source": [
    "Get/add timeseries"
   ]
  },
  {
   "cell_type": "code",
   "execution_count": null,
   "metadata": {},
   "outputs": [],
   "source": [
    "\n",
    "api.get_or_add_timeseries([\n",
    "    {\n",
    "        \"name\":'Omnia IIoT write test python sdk 2',\n",
    "        \"facility\":\"ASGA\"   \n",
    "    }\n",
    "])"
   ]
  },
  {
   "cell_type": "markdown",
   "metadata": {},
   "source": [
    "Remember to delete the timeseries created after testing"
   ]
  },
  {
   "cell_type": "code",
   "execution_count": null,
   "metadata": {},
   "outputs": [],
   "source": [
    "api.delete_timeseries_by_id(id=\"ID_of_created_timeseries_above\")"
   ]
  },
  {
   "cell_type": "markdown",
   "metadata": {},
   "source": [
    "Partial update of a timeseries metadata with given id. Fields not specified are left unchanged."
   ]
  },
  {
   "cell_type": "code",
   "execution_count": null,
   "metadata": {},
   "outputs": [],
   "source": [
    "api.patch_timeseries(id=\"Timeseries_ID\", request= \n",
    "    {\n",
    "        \"name\":\"New name\",\n",
    "        \"description\":\"Description of the tag\",\n",
    "        \"unit\":\"kg\",\n",
    "        \"step\":True\n",
    "    }\n",
    ")"
   ]
  },
  {
   "cell_type": "markdown",
   "metadata": {},
   "source": [
    "Update all fields of a timeseries metadata, all fields on the object will be overwritten."
   ]
  },
  {
   "cell_type": "code",
   "execution_count": null,
   "metadata": {},
   "outputs": [],
   "source": [
    "api.put_timeseries(id=\"Timeseries_ID_to_update\", request= \n",
    "    {\n",
    "        \"name\":\"New name\",\n",
    "        \"facility\":\"ASGA\"\n",
    "    }\n",
    ")"
   ]
  },
  {
   "cell_type": "markdown",
   "metadata": {},
   "source": [
    "Add/update datapoints to a timeseries"
   ]
  },
  {
   "cell_type": "code",
   "execution_count": null,
   "metadata": {},
   "outputs": [],
   "source": [
    "api.write_data(id=\"Timeseries_ID_to_update\", data=\n",
    "{\n",
    "    \"datapoints\":[{\n",
    "        \"time\": \"2024-12-09T14:00:00.000Z\",\n",
    "        \"value\":10.3,\n",
    "        \"status\":192\n",
    "}]\n",
    "})"
   ]
  },
  {
   "cell_type": "markdown",
   "metadata": {},
   "source": [
    "Add/update datapoints to multiple timeseries"
   ]
  },
  {
   "cell_type": "code",
   "execution_count": null,
   "metadata": {},
   "outputs": [],
   "source": [
    "#this is not working\n",
    "api.write_multiple(items=\n",
    "[{\n",
    "    \"id\":\"b6610f13-0081-4d85-a0f0-699ee51bb4ca\",\n",
    "    \"datapoints\":[{\n",
    "        \"time\": \"2024-12-10T14:00:00.000Z\",\n",
    "        \"value\":10.4,\n",
    "        \"status\":192\n",
    "    }]\n",
    "}])"
   ]
  },
  {
   "cell_type": "markdown",
   "metadata": {},
   "source": [
    "Get facilities"
   ]
  },
  {
   "cell_type": "code",
   "execution_count": 5,
   "metadata": {},
   "outputs": [
    {
     "data": {
      "text/plain": [
       "{'data': {'items': [{'facility': 'ASGA', 'count': 25964},\n",
       "   {'facility': 'JSV', 'count': 25020},\n",
       "   {'facility': 'SFC', 'count': 25001},\n",
       "   {'facility': 'SFB', 'count': 25000},\n",
       "   {'facility': 'GKR', 'count': 24632},\n",
       "   {'facility': 'SFA', 'count': 17480},\n",
       "   {'facility': 'AHA', 'count': 16355},\n",
       "   {'facility': 'KVB', 'count': 14029},\n",
       "   {'facility': 'VAL', 'count': 10746},\n",
       "   {'facility': 'MAR', 'count': 8780},\n",
       "   {'facility': 'TROL', 'count': 1227},\n",
       "   {'facility': 'SLA', 'count': 364},\n",
       "   {'facility': 'ASGB', 'count': 330},\n",
       "   {'facility': 'GRA', 'count': 97},\n",
       "   {'facility': 'GFC', 'count': 58},\n",
       "   {'facility': 'JCA', 'count': 50},\n",
       "   {'facility': 'SNA', 'count': 49},\n",
       "   {'facility': 'KRIS', 'count': 32},\n",
       "   {'facility': 'TROB', 'count': 31},\n",
       "   {'facility': 'VIS', 'count': 26},\n",
       "   {'facility': 'NOR', 'count': 18},\n",
       "   {'facility': 'TROC', 'count': 17},\n",
       "   {'facility': 'DRA', 'count': 11},\n",
       "   {'facility': 'NJA', 'count': 11},\n",
       "   {'facility': 'SNB', 'count': 10},\n",
       "   {'facility': 'GFA', 'count': 9},\n",
       "   {'facility': 'GDR', 'count': 6},\n",
       "   {'facility': 'KAA', 'count': 6},\n",
       "   {'facility': 'HD', 'count': 5},\n",
       "   {'facility': 'TROA', 'count': 5},\n",
       "   {'facility': 'OSA', 'count': 4},\n",
       "   {'facility': 'OSC', 'count': 3},\n",
       "   {'facility': 'PERA', 'count': 3},\n",
       "   {'facility': 'PERB', 'count': 3},\n",
       "   {'facility': 'DOW', 'count': 2},\n",
       "   {'facility': 'MON', 'count': 2},\n",
       "   {'facility': 'OSE', 'count': 2},\n",
       "   {'facility': 'BAC', 'count': 1},\n",
       "   {'facility': 'GFB', 'count': 1},\n",
       "   {'facility': 'KLAB', 'count': 1},\n",
       "   {'facility': 'MLA', 'count': 1},\n",
       "   {'facility': 'OSS', 'count': 1},\n",
       "   {'facility': 'SNO', 'count': 1},\n",
       "   {'facility': 'VFR', 'count': 1}]}}"
      ]
     },
     "execution_count": 5,
     "metadata": {},
     "output_type": "execute_result"
    }
   ],
   "source": [
    "#TEST\n",
    "api.get_facilities()"
   ]
  },
  {
   "cell_type": "markdown",
   "metadata": {},
   "source": [
    "Get sources"
   ]
  },
  {
   "cell_type": "code",
   "execution_count": 6,
   "metadata": {},
   "outputs": [
    {
     "data": {
      "text/plain": [
       "{'data': {'items': [{'source': 'IMS', 'count': 195160},\n",
       "   {'source': 'FUGRO', 'count': 222},\n",
       "   {'source': 'IOC', 'count': 7},\n",
       "   {'source': 'INTEGRATIONTESTREADWRITE', 'count': 4},\n",
       "   {'source': 'NES', 'count': 1},\n",
       "   {'source': 'PENNTEST', 'count': 1}]}}"
      ]
     },
     "execution_count": 6,
     "metadata": {},
     "output_type": "execute_result"
    }
   ],
   "source": [
    "#TEST\n",
    "api.get_sources()"
   ]
  },
  {
   "cell_type": "markdown",
   "metadata": {},
   "source": [
    "Get facilities by source"
   ]
  },
  {
   "cell_type": "code",
   "execution_count": 7,
   "metadata": {},
   "outputs": [
    {
     "data": {
      "text/plain": [
       "{'data': {'items': [{'facility': 'ASGA', 'count': 25961},\n",
       "   {'facility': 'JSV', 'count': 25020},\n",
       "   {'facility': 'SFC', 'count': 25001},\n",
       "   {'facility': 'SFB', 'count': 25000},\n",
       "   {'facility': 'GKR', 'count': 24632},\n",
       "   {'facility': 'SFA', 'count': 17459},\n",
       "   {'facility': 'AHA', 'count': 16355},\n",
       "   {'facility': 'KVB', 'count': 14029},\n",
       "   {'facility': 'VAL', 'count': 10746},\n",
       "   {'facility': 'MAR', 'count': 8780},\n",
       "   {'facility': 'TROL', 'count': 1225},\n",
       "   {'facility': 'SLA', 'count': 364},\n",
       "   {'facility': 'ASGB', 'count': 325},\n",
       "   {'facility': 'GRA', 'count': 93},\n",
       "   {'facility': 'JCA', 'count': 50},\n",
       "   {'facility': 'SNA', 'count': 27},\n",
       "   {'facility': 'NJA', 'count': 11},\n",
       "   {'facility': 'SNB', 'count': 10},\n",
       "   {'facility': 'GFA', 'count': 9},\n",
       "   {'facility': 'KRIS', 'count': 7},\n",
       "   {'facility': 'GDR', 'count': 6},\n",
       "   {'facility': 'KAA', 'count': 6},\n",
       "   {'facility': 'HD', 'count': 5},\n",
       "   {'facility': 'VIS', 'count': 5},\n",
       "   {'facility': 'OSA', 'count': 4},\n",
       "   {'facility': 'TROA', 'count': 4},\n",
       "   {'facility': 'GFC', 'count': 3},\n",
       "   {'facility': 'OSC', 'count': 3},\n",
       "   {'facility': 'PERA', 'count': 3},\n",
       "   {'facility': 'PERB', 'count': 3},\n",
       "   {'facility': 'MON', 'count': 2},\n",
       "   {'facility': 'NOR', 'count': 2},\n",
       "   {'facility': 'OSE', 'count': 2},\n",
       "   {'facility': 'BAC', 'count': 1},\n",
       "   {'facility': 'DOW', 'count': 1},\n",
       "   {'facility': 'GFB', 'count': 1},\n",
       "   {'facility': 'KLAB', 'count': 1},\n",
       "   {'facility': 'MLA', 'count': 1},\n",
       "   {'facility': 'OSS', 'count': 1},\n",
       "   {'facility': 'SNO', 'count': 1},\n",
       "   {'facility': 'VFR', 'count': 1}]}}"
      ]
     },
     "execution_count": 7,
     "metadata": {},
     "output_type": "execute_result"
    }
   ],
   "source": [
    "#TEST\n",
    "api.get_facilities_by_source(source=federationSource[0])"
   ]
  }
 ],
 "metadata": {
  "kernelspec": {
   "display_name": "Python 3",
   "language": "python",
   "name": "python3"
  },
  "language_info": {
   "codemirror_mode": {
    "name": "ipython",
    "version": 3
   },
   "file_extension": ".py",
   "mimetype": "text/x-python",
   "name": "python",
   "nbconvert_exporter": "python",
   "pygments_lexer": "ipython3",
   "version": "3.13.1"
  }
 },
 "nbformat": 4,
 "nbformat_minor": 2
}
